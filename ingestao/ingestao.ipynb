{
 "cells": [
  {
   "cell_type": "code",
   "execution_count": 1,
   "id": "80c2b1de-5d73-467c-94b3-256e1404b679",
   "metadata": {},
   "outputs": [],
   "source": [
    "import duckdb\n",
    "import os\n",
    "from pathlib import Path\n",
    "import pandas as pd"
   ]
  },
  {
   "cell_type": "code",
   "execution_count": 2,
   "id": "7b44d568-7fe6-4924-9595-53a36290bd71",
   "metadata": {},
   "outputs": [],
   "source": [
    "def view_uniques(df_input, max_values=80):\n",
    "    \"\"\"\n",
    "    Prints unique values for each column in a DataFrame.\n",
    "\n",
    "    Args:\n",
    "        df_input (pandas.DataFrame): The input DataFrame.\n",
    "        max_values (int, optional): The maximum number of unique values to\n",
    "            display. Defaults to 80.\n",
    "    \"\"\"\n",
    "\n",
    "    for col in df_input.columns:\n",
    "        list_unique = df_input[col].unique()\n",
    "        len_items = len(list_unique)\n",
    "        un_item = \"item\" if len_items == 1 else \"items\"\n",
    "        if len_items < max_values:\n",
    "            print(col, \":\", len_items, un_item, list_unique)\n",
    "        else:\n",
    "            print(col, \":\", len_items, un_item, \"---------\")\n"
   ]
  },
  {
   "cell_type": "code",
   "execution_count": 5,
   "id": "76082bda-c23c-458f-aedf-7bcbd6af5a62",
   "metadata": {},
   "outputs": [],
   "source": [
    "link_Sample_Fact_Top_Material = \"https://github.com/andrezaleite/PES_Embraer_DBT/raw/main/data/Sample_Fact_Top_Material.zip\"\n",
    "link_Sample_Gestao_Faltas = \"https://github.com/andrezaleite/PES_Embraer_DBT/raw/main/data/Sample_Gestao_Faltas.zip\""
   ]
  },
  {
   "cell_type": "markdown",
   "id": "d2e1608b-24bd-4b40-b2dc-0136f9e18654",
   "metadata": {},
   "source": [
    "Faça download dos arquivos na pasta ingestao/data"
   ]
  },
  {
   "cell_type": "code",
   "execution_count": 5,
   "id": "237e1575-947b-433b-bf64-efe7a4926151",
   "metadata": {},
   "outputs": [],
   "source": [
    "data_folder = \"data\"\n",
    "# Listar todos os arquivos CSV na pasta \"data\"\n",
    "csv_files = [\n",
    "    f for f in os.listdir(data_folder) if f.lower().endswith(\".csv\")\n",
    "]"
   ]
  },
  {
   "cell_type": "markdown",
   "id": "4f03bb12-75e4-4417-9c20-e19168c3ce8b",
   "metadata": {},
   "source": [
    "## Exploracao - Base Gestão_Faltas"
   ]
  },
  {
   "cell_type": "code",
   "execution_count": 60,
   "id": "b07b8abc-e6d3-4381-a5ef-bb0949f7e93e",
   "metadata": {},
   "outputs": [
    {
     "data": {
      "text/plain": [
       "WindowsPath('data/Sample_Gestao_Faltas.csv')"
      ]
     },
     "execution_count": 60,
     "metadata": {},
     "output_type": "execute_result"
    }
   ],
   "source": [
    "file_path = Path(data_folder)/csv_files[1]\n",
    "file_path"
   ]
  },
  {
   "cell_type": "code",
   "execution_count": 52,
   "id": "7dcec36f-dce8-41cb-8c60-8d337039eca6",
   "metadata": {},
   "outputs": [],
   "source": [
    "df = pd.read_csv(file_path, encoding='utf8')"
   ]
  },
  {
   "cell_type": "code",
   "execution_count": 9,
   "id": "7a6c6860-8335-457e-9a91-8b4bceb09e84",
   "metadata": {},
   "outputs": [
    {
     "name": "stdout",
     "output_type": "stream",
     "text": [
      "<class 'pandas.core.frame.DataFrame'>\n",
      "RangeIndex: 41372 entries, 0 to 41371\n",
      "Data columns (total 22 columns):\n",
      " #   Column          Non-Null Count  Dtype \n",
      "---  ------          --------------  ----- \n",
      " 0   PROJETO         41372 non-null  object\n",
      " 1   NS              41372 non-null  object\n",
      " 2   ORIG_NEC        41372 non-null  object\n",
      " 3   CEMB_SOLIC      41361 non-null  object\n",
      " 4   CEMB_MAT_FALT   41372 non-null  object\n",
      " 5   PN_MAT_FALT     41011 non-null  object\n",
      " 6   DESCR_MAT_FALT  41372 non-null  object\n",
      " 7   TIPO_MAT_FALT   40275 non-null  object\n",
      " 8   QTD_FALT        41372 non-null  object\n",
      " 9   PPCP_FORN       41371 non-null  object\n",
      " 10  PPCP_SOLIC      41354 non-null  object\n",
      " 11  DAT_COBR        41371 non-null  object\n",
      " 12  DAT_NEC         41331 non-null  object\n",
      " 13  DAT_LIMITE      41330 non-null  object\n",
      " 14  CENTRO_SOLIC    41372 non-null  object\n",
      " 15  CENTRO_FORN     41372 non-null  object\n",
      " 16  ULT_ATUALIZ_PZ  22174 non-null  object\n",
      " 17  APOIO           41357 non-null  object\n",
      " 18  D               41372 non-null  object\n",
      " 19  DAT_ATLZ        41372 non-null  object\n",
      " 20  DAT_PRZO        29271 non-null  object\n",
      " 21  STR_MOTV_FALT   12261 non-null  object\n",
      "dtypes: object(22)\n",
      "memory usage: 6.9+ MB\n"
     ]
    }
   ],
   "source": [
    "df.info()"
   ]
  },
  {
   "cell_type": "code",
   "execution_count": 11,
   "id": "51d0a7bb-6a6f-4216-9aed-bbfa5e2c40b3",
   "metadata": {},
   "outputs": [
    {
     "name": "stdout",
     "output_type": "stream",
     "text": [
      "PROJETO : 40 items ['0170' '0314' '0505' '0MTS' '0390' '0550' '0190' '0500' '0200' 'AF1M'\n",
      " '0PVE' '0CDP' '0PE2' '5501' 'EVOR' '9999' 'E99M' '0AN9' '0AN8' '0F39'\n",
      " '0REP' '0MS2' '0195' '0202' '0AS4' '0201' '0145' '0AG' '0NAS' 'E100'\n",
      " '390' '0175' '0PE4' '0LN9' '0AN5' 'F39' 'F' 'ELEB' '0AN7' '0AS3']\n",
      "NS : 856 items ---------\n",
      "ORIG_NEC : 33037 items ---------\n",
      "CEMB_SOLIC : 11460 items ---------\n",
      "CEMB_MAT_FALT : 18060 items ---------\n",
      "PN_MAT_FALT : 17859 items ---------\n",
      "DESCR_MAT_FALT : 11635 items ---------\n",
      "TIPO_MAT_FALT : 10 items ['2' '1' '4' '9' '6' '3' '5' nan '0' 'C']\n",
      "QTD_FALT : 1970 items ---------\n",
      "PPCP_FORN : 1038 items ---------\n",
      "PPCP_SOLIC : 963 items ---------\n",
      "DAT_COBR : 730 items ---------\n",
      "DAT_NEC : 957 items ---------\n",
      "DAT_LIMITE : 967 items ---------\n",
      "CENTRO_SOLIC : 19 items ['SJK1' 'EDS1' 'EEA1' 'BOT1' 'GPX1' 'EUG1' 'CLIE' 'MLB' 'VCP1' 'EEC1'\n",
      " 'TTE1' 'TIX1' 'EEM' 'EEC' 'EDE' 'EEM1' 'EUG2' 'JAX' 'ELB1']\n",
      "CENTRO_FORN : 4 items ['SJK1' 'GPX1' 'BOT1' 'EUG1']\n",
      "ULT_ATUALIZ_PZ : 824 items ---------\n",
      "APOIO : 168 items ---------\n",
      "D : 2 items ['A' 'F']\n",
      "DAT_ATLZ : 636 items ---------\n",
      "DAT_PRZO : 951 items ---------\n",
      "STR_MOTV_FALT : 86 items ---------\n"
     ]
    }
   ],
   "source": [
    "view_uniques(df)"
   ]
  },
  {
   "cell_type": "code",
   "execution_count": 10,
   "id": "4e464534-6e01-4e28-895b-36bdabf6605c",
   "metadata": {},
   "outputs": [
    {
     "data": {
      "text/html": [
       "<div>\n",
       "<style scoped>\n",
       "    .dataframe tbody tr th:only-of-type {\n",
       "        vertical-align: middle;\n",
       "    }\n",
       "\n",
       "    .dataframe tbody tr th {\n",
       "        vertical-align: top;\n",
       "    }\n",
       "\n",
       "    .dataframe thead th {\n",
       "        text-align: right;\n",
       "    }\n",
       "</style>\n",
       "<table border=\"1\" class=\"dataframe\">\n",
       "  <thead>\n",
       "    <tr style=\"text-align: right;\">\n",
       "      <th></th>\n",
       "      <th>0</th>\n",
       "      <th>1</th>\n",
       "      <th>2</th>\n",
       "    </tr>\n",
       "  </thead>\n",
       "  <tbody>\n",
       "    <tr>\n",
       "      <th>PROJETO</th>\n",
       "      <td>0170</td>\n",
       "      <td>0314</td>\n",
       "      <td>0505</td>\n",
       "    </tr>\n",
       "    <tr>\n",
       "      <th>NS</th>\n",
       "      <td>00929</td>\n",
       "      <td>00MTS</td>\n",
       "      <td>00689</td>\n",
       "    </tr>\n",
       "    <tr>\n",
       "      <th>ORIG_NEC</th>\n",
       "      <td>42619930</td>\n",
       "      <td>30102961</td>\n",
       "      <td>30263345</td>\n",
       "    </tr>\n",
       "    <tr>\n",
       "      <th>CEMB_SOLIC</th>\n",
       "      <td>2241257</td>\n",
       "      <td>2407186</td>\n",
       "      <td>6958461</td>\n",
       "    </tr>\n",
       "    <tr>\n",
       "      <th>CEMB_MAT_FALT</th>\n",
       "      <td>4171109</td>\n",
       "      <td>2407186</td>\n",
       "      <td>7076878</td>\n",
       "    </tr>\n",
       "    <tr>\n",
       "      <th>PN_MAT_FALT</th>\n",
       "      <td>191-15107-075</td>\n",
       "      <td>314-70586-401</td>\n",
       "      <td>506-60625-901</td>\n",
       "    </tr>\n",
       "    <tr>\n",
       "      <th>DESCR_MAT_FALT</th>\n",
       "      <td>INSCRICAO EXTERNA SERIGRAFADA INGLE</td>\n",
       "      <td>HARNESS W231  ELETRONIC COMPT</td>\n",
       "      <td>CUP HOLDER  RUBBER  DIVAN</td>\n",
       "    </tr>\n",
       "    <tr>\n",
       "      <th>TIPO_MAT_FALT</th>\n",
       "      <td>2</td>\n",
       "      <td>1</td>\n",
       "      <td>4</td>\n",
       "    </tr>\n",
       "    <tr>\n",
       "      <th>QTD_FALT</th>\n",
       "      <td>1</td>\n",
       "      <td>1</td>\n",
       "      <td>0</td>\n",
       "    </tr>\n",
       "    <tr>\n",
       "      <th>PPCP_FORN</th>\n",
       "      <td>O44</td>\n",
       "      <td>7XX</td>\n",
       "      <td>R21</td>\n",
       "    </tr>\n",
       "    <tr>\n",
       "      <th>PPCP_SOLIC</th>\n",
       "      <td>LP1</td>\n",
       "      <td>AXX</td>\n",
       "      <td>BDC</td>\n",
       "    </tr>\n",
       "    <tr>\n",
       "      <th>DAT_COBR</th>\n",
       "      <td>2022-08-16</td>\n",
       "      <td>2022-10-10</td>\n",
       "      <td>2022-04-11</td>\n",
       "    </tr>\n",
       "    <tr>\n",
       "      <th>DAT_NEC</th>\n",
       "      <td>2022-08-02</td>\n",
       "      <td>2022-10-06</td>\n",
       "      <td>2022-08-08</td>\n",
       "    </tr>\n",
       "    <tr>\n",
       "      <th>DAT_LIMITE</th>\n",
       "      <td>2022-08-02</td>\n",
       "      <td>2022-09-01</td>\n",
       "      <td>2022-08-08</td>\n",
       "    </tr>\n",
       "    <tr>\n",
       "      <th>CENTRO_SOLIC</th>\n",
       "      <td>SJK1</td>\n",
       "      <td>EDS1</td>\n",
       "      <td>EEA1</td>\n",
       "    </tr>\n",
       "    <tr>\n",
       "      <th>CENTRO_FORN</th>\n",
       "      <td>SJK1</td>\n",
       "      <td>SJK1</td>\n",
       "      <td>GPX1</td>\n",
       "    </tr>\n",
       "    <tr>\n",
       "      <th>ULT_ATUALIZ_PZ</th>\n",
       "      <td>NaN</td>\n",
       "      <td>2022-10-18</td>\n",
       "      <td>NaN</td>\n",
       "    </tr>\n",
       "    <tr>\n",
       "      <th>APOIO</th>\n",
       "      <td>MAURICIO AUGUSTO</td>\n",
       "      <td>CONTROLE</td>\n",
       "      <td>MARCELO TURCO</td>\n",
       "    </tr>\n",
       "    <tr>\n",
       "      <th>D</th>\n",
       "      <td>A</td>\n",
       "      <td>A</td>\n",
       "      <td>A</td>\n",
       "    </tr>\n",
       "    <tr>\n",
       "      <th>DAT_ATLZ</th>\n",
       "      <td>2022-11-01</td>\n",
       "      <td>2022-10-24</td>\n",
       "      <td>2022-10-13</td>\n",
       "    </tr>\n",
       "    <tr>\n",
       "      <th>DAT_PRZO</th>\n",
       "      <td>NaN</td>\n",
       "      <td>2022-10-17</td>\n",
       "      <td>NaN</td>\n",
       "    </tr>\n",
       "    <tr>\n",
       "      <th>STR_MOTV_FALT</th>\n",
       "      <td>NaN</td>\n",
       "      <td>NaN</td>\n",
       "      <td>NaN</td>\n",
       "    </tr>\n",
       "  </tbody>\n",
       "</table>\n",
       "</div>"
      ],
      "text/plain": [
       "                                                  0  \\\n",
       "PROJETO                                        0170   \n",
       "NS                                            00929   \n",
       "ORIG_NEC                                   42619930   \n",
       "CEMB_SOLIC                                  2241257   \n",
       "CEMB_MAT_FALT                               4171109   \n",
       "PN_MAT_FALT                           191-15107-075   \n",
       "DESCR_MAT_FALT  INSCRICAO EXTERNA SERIGRAFADA INGLE   \n",
       "TIPO_MAT_FALT                                     2   \n",
       "QTD_FALT                                          1   \n",
       "PPCP_FORN                                       O44   \n",
       "PPCP_SOLIC                                      LP1   \n",
       "DAT_COBR                                 2022-08-16   \n",
       "DAT_NEC                                  2022-08-02   \n",
       "DAT_LIMITE                               2022-08-02   \n",
       "CENTRO_SOLIC                                   SJK1   \n",
       "CENTRO_FORN                                    SJK1   \n",
       "ULT_ATUALIZ_PZ                                  NaN   \n",
       "APOIO                              MAURICIO AUGUSTO   \n",
       "D                                                 A   \n",
       "DAT_ATLZ                                 2022-11-01   \n",
       "DAT_PRZO                                        NaN   \n",
       "STR_MOTV_FALT                                   NaN   \n",
       "\n",
       "                                            1                          2  \n",
       "PROJETO                                  0314                       0505  \n",
       "NS                                      00MTS                      00689  \n",
       "ORIG_NEC                             30102961                   30263345  \n",
       "CEMB_SOLIC                            2407186                    6958461  \n",
       "CEMB_MAT_FALT                         2407186                    7076878  \n",
       "PN_MAT_FALT                     314-70586-401              506-60625-901  \n",
       "DESCR_MAT_FALT  HARNESS W231  ELETRONIC COMPT  CUP HOLDER  RUBBER  DIVAN  \n",
       "TIPO_MAT_FALT                               1                          4  \n",
       "QTD_FALT                                    1                          0  \n",
       "PPCP_FORN                                 7XX                        R21  \n",
       "PPCP_SOLIC                                AXX                        BDC  \n",
       "DAT_COBR                           2022-10-10                 2022-04-11  \n",
       "DAT_NEC                            2022-10-06                 2022-08-08  \n",
       "DAT_LIMITE                         2022-09-01                 2022-08-08  \n",
       "CENTRO_SOLIC                             EDS1                       EEA1  \n",
       "CENTRO_FORN                              SJK1                       GPX1  \n",
       "ULT_ATUALIZ_PZ                     2022-10-18                        NaN  \n",
       "APOIO                                CONTROLE              MARCELO TURCO  \n",
       "D                                           A                          A  \n",
       "DAT_ATLZ                           2022-10-24                 2022-10-13  \n",
       "DAT_PRZO                           2022-10-17                        NaN  \n",
       "STR_MOTV_FALT                             NaN                        NaN  "
      ]
     },
     "execution_count": 10,
     "metadata": {},
     "output_type": "execute_result"
    }
   ],
   "source": [
    "df.head(3).T"
   ]
  },
  {
   "cell_type": "markdown",
   "id": "87a9ce61-1f2e-48dd-89b6-d460cecd70e3",
   "metadata": {},
   "source": [
    "### Resolução de erros de encoding"
   ]
  },
  {
   "cell_type": "markdown",
   "id": "fafc2c4d-fab1-4ce9-a457-74c700c6057c",
   "metadata": {},
   "source": [
    "Identificação de casos com erros de encoding"
   ]
  },
  {
   "cell_type": "code",
   "execution_count": 74,
   "id": "40e97df3-1034-48af-b637-53ceefde8cc3",
   "metadata": {},
   "outputs": [
    {
     "data": {
      "text/plain": [
       "['UNIDADE DE GER DE AUDIO (BLACK) FUNÇÃO T',\n",
       " 'ANEL VEDAÇÃO-HELICE BORRACHA',\n",
       " 'ARRUELA ISOLADOR VIBRAÃ\\x87Ã\\x83O - ALUMÃ\\x8dNIO',\n",
       " 'MANTA ISOLANTE  SUPORTE IÃ\\x87AMENTO',\n",
       " 'ISOLADOR VIBRAÇÃO']"
      ]
     },
     "execution_count": 74,
     "metadata": {},
     "output_type": "execute_result"
    }
   ],
   "source": [
    "[x for x in df['DESCR_MAT_FALT'].unique() if 'Ã' in x][-5:]"
   ]
  },
  {
   "cell_type": "markdown",
   "id": "a1744774-6ca2-4b61-acf2-3d96936ad990",
   "metadata": {},
   "source": [
    "Investigar o caso da \"MANTA ISOLANTE  SUPORTE\""
   ]
  },
  {
   "cell_type": "markdown",
   "id": "2dac5f3b-3024-4d9f-8c48-51e543ac25c5",
   "metadata": {},
   "source": [
    "Visualizar com utf8"
   ]
  },
  {
   "cell_type": "code",
   "execution_count": 72,
   "id": "de7a1ffb-9ec2-44e8-b292-3572f84bda19",
   "metadata": {},
   "outputs": [
    {
     "data": {
      "text/plain": [
       "['MANTA ISOLANTE  SUPORTE IÃ\\x87AMENTO']"
      ]
     },
     "execution_count": 72,
     "metadata": {},
     "output_type": "execute_result"
    }
   ],
   "source": [
    "[x for x in df['DESCR_MAT_FALT'].unique() if 'MANTA ISOLANTE  SUPORTE' in x]"
   ]
  },
  {
   "cell_type": "markdown",
   "id": "315ea934-e745-4b9f-a56a-2e0a61ddefa6",
   "metadata": {},
   "source": [
    "Visualizar com latin1"
   ]
  },
  {
   "cell_type": "code",
   "execution_count": 73,
   "id": "628688ff-70c7-4c1b-8fab-169d05f0ebd3",
   "metadata": {},
   "outputs": [
    {
     "data": {
      "text/plain": [
       "['MANTA ISOLANTE  SUPORTE IÃ\\x83Â\\x87AMENTO']"
      ]
     },
     "execution_count": 73,
     "metadata": {},
     "output_type": "execute_result"
    }
   ],
   "source": [
    "[x for x in pd.read_csv(file_path, encoding='latin')['DESCR_MAT_FALT'].unique() if 'MANTA ISOLANTE  SUPORTE' in x]"
   ]
  },
  {
   "cell_type": "markdown",
   "id": "0013d881-b7dc-4dcd-84a3-057510ed1098",
   "metadata": {},
   "source": [
    "Conclui-se que o erro de encoding não é ocasionado por escolha incorreta na abertura do CSV, mas o arquivo possuir Encoding Misto (mixed-encoding).</br></br>"
   ]
  },
  {
   "cell_type": "markdown",
   "id": "ad79b225-a989-4df5-a2f4-9d233948c59c",
   "metadata": {},
   "source": [
    "resolver 1 caso manualmente"
   ]
  },
  {
   "cell_type": "code",
   "execution_count": 76,
   "id": "1634c2d1-9698-4c3f-a74c-6a5bf33bc00b",
   "metadata": {},
   "outputs": [
    {
     "data": {
      "text/plain": [
       "'MANTA ISOLANTE  SUPORTE IÇAMENTO'"
      ]
     },
     "execution_count": 76,
     "metadata": {},
     "output_type": "execute_result"
    }
   ],
   "source": [
    "temp_str = 'MANTA ISOLANTE  SUPORTE IÃ\\x87AMENTO'\n",
    "temp_str.encode('latin1').decode('utf8')"
   ]
  },
  {
   "cell_type": "markdown",
   "id": "ab50f687-10c7-4f90-b038-d1b1fe5a98eb",
   "metadata": {},
   "source": [
    "Corrigir mixed encoding para todo o dataframe"
   ]
  },
  {
   "cell_type": "code",
   "execution_count": 121,
   "id": "a9ce7cac-34f0-4477-9a97-8815425b4849",
   "metadata": {},
   "outputs": [],
   "source": [
    "def adjust_encoding(stringa):\n",
    "    try:\n",
    "        encoded = stringa.encode(\"latin1\").decode(\"utf8\")\n",
    "        return encoded\n",
    "    except UnicodeDecodeError:\n",
    "        return stringa\n",
    "    except Exception as e:\n",
    "        return stringa"
   ]
  },
  {
   "cell_type": "code",
   "execution_count": 67,
   "id": "9b628841-8813-487c-8cc0-e79247a0d8c0",
   "metadata": {},
   "outputs": [
    {
     "data": {
      "text/plain": [
       "['MANTA ISOLANTE  PAINEL  RGB TANQUE', 'MANTA ISOLANTE  SUPORTE IÇAMENTO']"
      ]
     },
     "execution_count": 67,
     "metadata": {},
     "output_type": "execute_result"
    }
   ],
   "source": [
    "df_fix = \\\n",
    " (df\n",
    " .assign(DESCR_MAT_FALT=lambda x: \n",
    "         x[\"DESCR_MAT_FALT\"].apply(adjust_encoding))\n",
    " )\n",
    "[x for x in df_fix['DESCR_MAT_FALT'].unique() if 'MANTA ISOLANTE' in x]"
   ]
  },
  {
   "cell_type": "code",
   "execution_count": null,
   "id": "366562da-f415-43e9-914f-f12456cf5608",
   "metadata": {},
   "outputs": [],
   "source": []
  },
  {
   "cell_type": "markdown",
   "id": "cb1739b6-0cae-4a52-b4af-f9cf02b26c66",
   "metadata": {},
   "source": [
    "## Ingestao"
   ]
  },
  {
   "cell_type": "markdown",
   "id": "f42a4a51-63ca-4b69-b16c-a24f35eadde5",
   "metadata": {},
   "source": [
    "**Ler dados e preprocessar**"
   ]
  },
  {
   "cell_type": "code",
   "execution_count": 122,
   "id": "87397a3b-9a0d-4747-88d7-f371678ab186",
   "metadata": {},
   "outputs": [],
   "source": [
    "def preprocess(dataframe, col_name):\n",
    "    return (dataframe\n",
    "            .assign(**{col_name:lambda x: x[col_name].apply(adjust_encoding)})\n",
    "            .rename(columns=lambda x:x.upper())\n",
    "           )"
   ]
  },
  {
   "cell_type": "code",
   "execution_count": 108,
   "id": "fc6fe46d-727f-46c7-ad0f-91d065883dc7",
   "metadata": {},
   "outputs": [
    {
     "data": {
      "text/plain": [
       "'Sample_Fact_Top_Material'"
      ]
     },
     "execution_count": 108,
     "metadata": {},
     "output_type": "execute_result"
    }
   ],
   "source": [
    "file_path_top_material = Path(data_folder)/csv_files[0]\n",
    "file_path_top_material.stem"
   ]
  },
  {
   "cell_type": "code",
   "execution_count": 119,
   "id": "9350f510-0880-4fce-9288-833cc174ebce",
   "metadata": {},
   "outputs": [
    {
     "data": {
      "text/html": [
       "<div>\n",
       "<style scoped>\n",
       "    .dataframe tbody tr th:only-of-type {\n",
       "        vertical-align: middle;\n",
       "    }\n",
       "\n",
       "    .dataframe tbody tr th {\n",
       "        vertical-align: top;\n",
       "    }\n",
       "\n",
       "    .dataframe thead th {\n",
       "        text-align: right;\n",
       "    }\n",
       "</style>\n",
       "<table border=\"1\" class=\"dataframe\">\n",
       "  <thead>\n",
       "    <tr style=\"text-align: right;\">\n",
       "      <th></th>\n",
       "      <th>FTOP_MATERIAL</th>\n",
       "      <th>FTOP_LOTE_SAP</th>\n",
       "      <th>FTOP_CENTRO_PRINCIPAL</th>\n",
       "      <th>FTOP_CODIGO_PLANEJADOR_MRP</th>\n",
       "      <th>FTOP_PART_NUMBER</th>\n",
       "      <th>FTOP_DESCRICAO_ECODE</th>\n",
       "      <th>FTOP_UNIDADE_MEDIDA_BASICA</th>\n",
       "      <th>FTOP_QTD_STK</th>\n",
       "      <th>FTOP_QTD_D_PASSADA</th>\n",
       "      <th>FTOP_QTD_D_MENSAL_AVG</th>\n",
       "      <th>FTOP_USD_PRECO_UNIT</th>\n",
       "      <th>FTOP_TARGET_MIN</th>\n",
       "      <th>FTOP_TARGET_MAX</th>\n",
       "      <th>FTOP_DATA1</th>\n",
       "    </tr>\n",
       "  </thead>\n",
       "  <tbody>\n",
       "    <tr>\n",
       "      <th>0</th>\n",
       "      <td>10206</td>\n",
       "      <td>EX</td>\n",
       "      <td>SJK1</td>\n",
       "      <td>I25</td>\n",
       "      <td>190-40215-001</td>\n",
       "      <td>PLACA</td>\n",
       "      <td>UM</td>\n",
       "      <td>1.0</td>\n",
       "      <td>0.0</td>\n",
       "      <td>0.000000</td>\n",
       "      <td>31.913</td>\n",
       "      <td>2.0</td>\n",
       "      <td>2.0</td>\n",
       "      <td>2024-01-15</td>\n",
       "    </tr>\n",
       "    <tr>\n",
       "      <th>1</th>\n",
       "      <td>691</td>\n",
       "      <td>EX</td>\n",
       "      <td>GPX1</td>\n",
       "      <td>I85</td>\n",
       "      <td>546-56059-905</td>\n",
       "      <td>MOLDURA MONITOR 19POL, PARTICAO, AL, NIC</td>\n",
       "      <td>UM</td>\n",
       "      <td>7.0</td>\n",
       "      <td>1.0</td>\n",
       "      <td>0.166667</td>\n",
       "      <td>415.401</td>\n",
       "      <td>2.0</td>\n",
       "      <td>2.0</td>\n",
       "      <td>2024-01-15</td>\n",
       "    </tr>\n",
       "    <tr>\n",
       "      <th>2</th>\n",
       "      <td>493</td>\n",
       "      <td>EX</td>\n",
       "      <td>GPX1</td>\n",
       "      <td>I85</td>\n",
       "      <td>546-56047-905</td>\n",
       "      <td>PLACA TRAVA, ACAB, TRANCA PORTA TOALETE,</td>\n",
       "      <td>UM</td>\n",
       "      <td>1.0</td>\n",
       "      <td>0.0</td>\n",
       "      <td>0.083333</td>\n",
       "      <td>27.601</td>\n",
       "      <td>0.0</td>\n",
       "      <td>0.0</td>\n",
       "      <td>2024-01-15</td>\n",
       "    </tr>\n",
       "  </tbody>\n",
       "</table>\n",
       "</div>"
      ],
      "text/plain": [
       "   FTOP_MATERIAL FTOP_LOTE_SAP FTOP_CENTRO_PRINCIPAL  \\\n",
       "0          10206            EX                  SJK1   \n",
       "1            691            EX                  GPX1   \n",
       "2            493            EX                  GPX1   \n",
       "\n",
       "  FTOP_CODIGO_PLANEJADOR_MRP FTOP_PART_NUMBER  \\\n",
       "0                        I25    190-40215-001   \n",
       "1                        I85    546-56059-905   \n",
       "2                        I85    546-56047-905   \n",
       "\n",
       "                       FTOP_DESCRICAO_ECODE FTOP_UNIDADE_MEDIDA_BASICA  \\\n",
       "0                                     PLACA                         UM   \n",
       "1  MOLDURA MONITOR 19POL, PARTICAO, AL, NIC                         UM   \n",
       "2  PLACA TRAVA, ACAB, TRANCA PORTA TOALETE,                         UM   \n",
       "\n",
       "   FTOP_QTD_STK  FTOP_QTD_D_PASSADA  FTOP_QTD_D_MENSAL_AVG  \\\n",
       "0           1.0                 0.0               0.000000   \n",
       "1           7.0                 1.0               0.166667   \n",
       "2           1.0                 0.0               0.083333   \n",
       "\n",
       "   FTOP_USD_PRECO_UNIT  FTOP_TARGET_MIN  FTOP_TARGET_MAX  FTOP_DATA1  \n",
       "0               31.913              2.0              2.0  2024-01-15  \n",
       "1              415.401              2.0              2.0  2024-01-15  \n",
       "2               27.601              0.0              0.0  2024-01-15  "
      ]
     },
     "execution_count": 119,
     "metadata": {},
     "output_type": "execute_result"
    }
   ],
   "source": [
    "df_fact_top_material = \\\n",
    "    preprocess(dataframe=pd.read_csv(file_path_top_material, encoding='utf8'), \n",
    "               col_name='fTOP_DESCRICAO_ECODE')\n",
    "df_fact_top_material.head(3)"
   ]
  },
  {
   "cell_type": "code",
   "execution_count": 112,
   "id": "9eb86e88-8cd0-450a-8fe5-59b0c30a978b",
   "metadata": {},
   "outputs": [
    {
     "data": {
      "text/plain": [
       "WindowsPath('data/Sample_Gestao_Faltas.csv')"
      ]
     },
     "execution_count": 112,
     "metadata": {},
     "output_type": "execute_result"
    }
   ],
   "source": [
    "file_path_gestao_faltas = Path(data_folder)/csv_files[1]\n",
    "file_path_gestao_faltas"
   ]
  },
  {
   "cell_type": "code",
   "execution_count": 120,
   "id": "604cc015-637e-4bf7-8fc7-fe534af5dbb5",
   "metadata": {},
   "outputs": [
    {
     "data": {
      "text/html": [
       "<div>\n",
       "<style scoped>\n",
       "    .dataframe tbody tr th:only-of-type {\n",
       "        vertical-align: middle;\n",
       "    }\n",
       "\n",
       "    .dataframe tbody tr th {\n",
       "        vertical-align: top;\n",
       "    }\n",
       "\n",
       "    .dataframe thead th {\n",
       "        text-align: right;\n",
       "    }\n",
       "</style>\n",
       "<table border=\"1\" class=\"dataframe\">\n",
       "  <thead>\n",
       "    <tr style=\"text-align: right;\">\n",
       "      <th></th>\n",
       "      <th>PROJETO</th>\n",
       "      <th>NS</th>\n",
       "      <th>ORIG_NEC</th>\n",
       "      <th>CEMB_SOLIC</th>\n",
       "      <th>CEMB_MAT_FALT</th>\n",
       "      <th>PN_MAT_FALT</th>\n",
       "      <th>DESCR_MAT_FALT</th>\n",
       "      <th>TIPO_MAT_FALT</th>\n",
       "      <th>QTD_FALT</th>\n",
       "      <th>PPCP_FORN</th>\n",
       "      <th>...</th>\n",
       "      <th>DAT_NEC</th>\n",
       "      <th>DAT_LIMITE</th>\n",
       "      <th>CENTRO_SOLIC</th>\n",
       "      <th>CENTRO_FORN</th>\n",
       "      <th>ULT_ATUALIZ_PZ</th>\n",
       "      <th>APOIO</th>\n",
       "      <th>D</th>\n",
       "      <th>DAT_ATLZ</th>\n",
       "      <th>DAT_PRZO</th>\n",
       "      <th>STR_MOTV_FALT</th>\n",
       "    </tr>\n",
       "  </thead>\n",
       "  <tbody>\n",
       "    <tr>\n",
       "      <th>0</th>\n",
       "      <td>0170</td>\n",
       "      <td>00929</td>\n",
       "      <td>42619930</td>\n",
       "      <td>2241257</td>\n",
       "      <td>4171109</td>\n",
       "      <td>191-15107-075</td>\n",
       "      <td>INSCRICAO EXTERNA SERIGRAFADA INGLE</td>\n",
       "      <td>2</td>\n",
       "      <td>1</td>\n",
       "      <td>O44</td>\n",
       "      <td>...</td>\n",
       "      <td>2022-08-02</td>\n",
       "      <td>2022-08-02</td>\n",
       "      <td>SJK1</td>\n",
       "      <td>SJK1</td>\n",
       "      <td>NaN</td>\n",
       "      <td>MAURICIO AUGUSTO</td>\n",
       "      <td>A</td>\n",
       "      <td>2022-11-01</td>\n",
       "      <td>NaN</td>\n",
       "      <td>NaN</td>\n",
       "    </tr>\n",
       "    <tr>\n",
       "      <th>1</th>\n",
       "      <td>0314</td>\n",
       "      <td>00MTS</td>\n",
       "      <td>30102961</td>\n",
       "      <td>2407186</td>\n",
       "      <td>2407186</td>\n",
       "      <td>314-70586-401</td>\n",
       "      <td>HARNESS W231  ELETRONIC COMPT</td>\n",
       "      <td>1</td>\n",
       "      <td>1</td>\n",
       "      <td>7XX</td>\n",
       "      <td>...</td>\n",
       "      <td>2022-10-06</td>\n",
       "      <td>2022-09-01</td>\n",
       "      <td>EDS1</td>\n",
       "      <td>SJK1</td>\n",
       "      <td>2022-10-18</td>\n",
       "      <td>CONTROLE</td>\n",
       "      <td>A</td>\n",
       "      <td>2022-10-24</td>\n",
       "      <td>2022-10-17</td>\n",
       "      <td>NaN</td>\n",
       "    </tr>\n",
       "    <tr>\n",
       "      <th>2</th>\n",
       "      <td>0505</td>\n",
       "      <td>00689</td>\n",
       "      <td>30263345</td>\n",
       "      <td>6958461</td>\n",
       "      <td>7076878</td>\n",
       "      <td>506-60625-901</td>\n",
       "      <td>CUP HOLDER  RUBBER  DIVAN</td>\n",
       "      <td>4</td>\n",
       "      <td>0</td>\n",
       "      <td>R21</td>\n",
       "      <td>...</td>\n",
       "      <td>2022-08-08</td>\n",
       "      <td>2022-08-08</td>\n",
       "      <td>EEA1</td>\n",
       "      <td>GPX1</td>\n",
       "      <td>NaN</td>\n",
       "      <td>MARCELO TURCO</td>\n",
       "      <td>A</td>\n",
       "      <td>2022-10-13</td>\n",
       "      <td>NaN</td>\n",
       "      <td>NaN</td>\n",
       "    </tr>\n",
       "  </tbody>\n",
       "</table>\n",
       "<p>3 rows × 22 columns</p>\n",
       "</div>"
      ],
      "text/plain": [
       "  PROJETO     NS  ORIG_NEC CEMB_SOLIC CEMB_MAT_FALT    PN_MAT_FALT  \\\n",
       "0    0170  00929  42619930    2241257       4171109  191-15107-075   \n",
       "1    0314  00MTS  30102961    2407186       2407186  314-70586-401   \n",
       "2    0505  00689  30263345    6958461       7076878  506-60625-901   \n",
       "\n",
       "                        DESCR_MAT_FALT TIPO_MAT_FALT QTD_FALT PPCP_FORN  ...  \\\n",
       "0  INSCRICAO EXTERNA SERIGRAFADA INGLE             2        1       O44  ...   \n",
       "1        HARNESS W231  ELETRONIC COMPT             1        1       7XX  ...   \n",
       "2            CUP HOLDER  RUBBER  DIVAN             4        0       R21  ...   \n",
       "\n",
       "      DAT_NEC  DAT_LIMITE CENTRO_SOLIC CENTRO_FORN ULT_ATUALIZ_PZ  \\\n",
       "0  2022-08-02  2022-08-02         SJK1        SJK1            NaN   \n",
       "1  2022-10-06  2022-09-01         EDS1        SJK1     2022-10-18   \n",
       "2  2022-08-08  2022-08-08         EEA1        GPX1            NaN   \n",
       "\n",
       "              APOIO  D    DAT_ATLZ    DAT_PRZO STR_MOTV_FALT  \n",
       "0  MAURICIO AUGUSTO  A  2022-11-01         NaN           NaN  \n",
       "1          CONTROLE  A  2022-10-24  2022-10-17           NaN  \n",
       "2     MARCELO TURCO  A  2022-10-13         NaN           NaN  \n",
       "\n",
       "[3 rows x 22 columns]"
      ]
     },
     "execution_count": 120,
     "metadata": {},
     "output_type": "execute_result"
    }
   ],
   "source": [
    "df_gestao_faltas = \\\n",
    "    preprocess(dataframe=pd.read_csv(file_path_gestao_faltas, encoding='utf8'), \n",
    "               col_name='DESCR_MAT_FALT')\n",
    "df_gestao_faltas.head(3)"
   ]
  },
  {
   "cell_type": "markdown",
   "id": "4d176175-79bf-4095-9a15-a4f3e75feebd",
   "metadata": {},
   "source": [
    "**Carregar no DuckDB**"
   ]
  },
  {
   "cell_type": "code",
   "execution_count": 3,
   "id": "d8908e98-5709-49fa-84df-8e4ff6f127c2",
   "metadata": {},
   "outputs": [
    {
     "data": {
      "text/plain": [
       "WindowsPath('D:/git/palestra/dbt_duckdb/db/dev.duckdb')"
      ]
     },
     "execution_count": 3,
     "metadata": {},
     "output_type": "execute_result"
    }
   ],
   "source": [
    "# Conectar ao banco de dados DuckDB\n",
    "duckdb_file = Path('.').absolute().parent/'db'/\"dev.duckdb\"\n",
    "duckdb_file.parent.mkdir(exist_ok=True)\n",
    "duckdb_file"
   ]
  },
  {
   "cell_type": "code",
   "execution_count": 4,
   "id": "ccd118a5-e505-448b-840e-795213dba5d4",
   "metadata": {},
   "outputs": [],
   "source": [
    "con = duckdb.connect(str(duckdb_file))"
   ]
  },
  {
   "cell_type": "code",
   "execution_count": 263,
   "id": "c77e2187-5a45-4046-91b1-c7827693bbb1",
   "metadata": {},
   "outputs": [
    {
     "data": {
      "text/plain": [
       "<duckdb.duckdb.DuckDBPyConnection at 0x22d42cd1bf0>"
      ]
     },
     "execution_count": 263,
     "metadata": {},
     "output_type": "execute_result"
    }
   ],
   "source": [
    "con.execute(\"CREATE SCHEMA RAW\")"
   ]
  },
  {
   "cell_type": "markdown",
   "id": "c2ae40db-a73f-440b-8ec7-2dd9ee755e86",
   "metadata": {},
   "source": [
    "FACT_TOP_MATERIAL"
   ]
  },
  {
   "cell_type": "code",
   "execution_count": 265,
   "id": "a118ae03-fdbb-44de-ac5b-08dc2c02a222",
   "metadata": {},
   "outputs": [
    {
     "data": {
      "text/plain": [
       "'FACT_TOP_MATERIAL'"
      ]
     },
     "execution_count": 265,
     "metadata": {},
     "output_type": "execute_result"
    }
   ],
   "source": [
    "table_name_fact_top_material = file_path_top_material.stem.replace(\"Sample_\", \"\").upper()\n",
    "table_name_fact_top_material"
   ]
  },
  {
   "cell_type": "code",
   "execution_count": 268,
   "id": "731ccc01-329e-443b-956f-9045a564c055",
   "metadata": {},
   "outputs": [
    {
     "data": {
      "text/plain": [
       "<duckdb.duckdb.DuckDBPyConnection at 0x22d42cd1bf0>"
      ]
     },
     "execution_count": 268,
     "metadata": {},
     "output_type": "execute_result"
    }
   ],
   "source": [
    "con.execute(\n",
    "            f\"CREATE TABLE IF NOT EXISTS RAW.{table_name_fact_top_material} AS SELECT * FROM df_fact_top_material\"\n",
    "        )"
   ]
  },
  {
   "cell_type": "markdown",
   "id": "0d7a4cac-8aac-49e5-86a2-4af487d57d58",
   "metadata": {},
   "source": [
    "GESTAO_FALTAS"
   ]
  },
  {
   "cell_type": "code",
   "execution_count": 277,
   "id": "df646690-e917-4afa-ab6a-898014129fd1",
   "metadata": {},
   "outputs": [
    {
     "data": {
      "text/plain": [
       "'GESTAO_FALTAS'"
      ]
     },
     "execution_count": 277,
     "metadata": {},
     "output_type": "execute_result"
    }
   ],
   "source": [
    "table_name_gestao_faltas = file_path_gestao_faltas.stem.replace(\"Sample_\", \"\").upper()\n",
    "table_name_gestao_faltas"
   ]
  },
  {
   "cell_type": "code",
   "execution_count": 278,
   "id": "ea08b3b2-cc21-4dcf-8003-4540d604348f",
   "metadata": {},
   "outputs": [
    {
     "data": {
      "text/plain": [
       "<duckdb.duckdb.DuckDBPyConnection at 0x22d42cd1bf0>"
      ]
     },
     "execution_count": 278,
     "metadata": {},
     "output_type": "execute_result"
    }
   ],
   "source": [
    "con.execute(\n",
    "            f\"CREATE TABLE IF NOT EXISTS raw.{table_name_gestao_faltas} AS SELECT * FROM df_gestao_faltas\"\n",
    "        )"
   ]
  },
  {
   "cell_type": "markdown",
   "id": "43cff735-921a-4c59-9891-35ffa258e23f",
   "metadata": {},
   "source": [
    "Visualizar tabelas existentes"
   ]
  },
  {
   "cell_type": "code",
   "execution_count": 5,
   "id": "3c1676f9-ab88-44da-aff5-54587807c2bd",
   "metadata": {},
   "outputs": [
    {
     "data": {
      "text/plain": [
       "[('dev',\n",
       "  'RAW',\n",
       "  'FACT_TOP_MATERIAL',\n",
       "  ['FTOP_MATERIAL',\n",
       "   'FTOP_LOTE_SAP',\n",
       "   'FTOP_CENTRO_PRINCIPAL',\n",
       "   'FTOP_CODIGO_PLANEJADOR_MRP',\n",
       "   'FTOP_PART_NUMBER',\n",
       "   'FTOP_DESCRICAO_ECODE',\n",
       "   'FTOP_UNIDADE_MEDIDA_BASICA',\n",
       "   'FTOP_QTD_STK',\n",
       "   'FTOP_QTD_D_PASSADA',\n",
       "   'FTOP_QTD_D_MENSAL_AVG',\n",
       "   'FTOP_USD_PRECO_UNIT',\n",
       "   'FTOP_TARGET_MIN',\n",
       "   'FTOP_TARGET_MAX',\n",
       "   'FTOP_DATA1'],\n",
       "  ['BIGINT',\n",
       "   'VARCHAR',\n",
       "   'VARCHAR',\n",
       "   'VARCHAR',\n",
       "   'VARCHAR',\n",
       "   'VARCHAR',\n",
       "   'VARCHAR',\n",
       "   'DOUBLE',\n",
       "   'DOUBLE',\n",
       "   'DOUBLE',\n",
       "   'DOUBLE',\n",
       "   'DOUBLE',\n",
       "   'DOUBLE',\n",
       "   'VARCHAR'],\n",
       "  False),\n",
       " ('dev',\n",
       "  'RAW',\n",
       "  'GESTAO_FALTAS',\n",
       "  ['PROJETO',\n",
       "   'NS',\n",
       "   'ORIG_NEC',\n",
       "   'CEMB_SOLIC',\n",
       "   'CEMB_MAT_FALT',\n",
       "   'PN_MAT_FALT',\n",
       "   'DESCR_MAT_FALT',\n",
       "   'TIPO_MAT_FALT',\n",
       "   'QTD_FALT',\n",
       "   'PPCP_FORN',\n",
       "   'PPCP_SOLIC',\n",
       "   'DAT_COBR',\n",
       "   'DAT_NEC',\n",
       "   'DAT_LIMITE',\n",
       "   'CENTRO_SOLIC',\n",
       "   'CENTRO_FORN',\n",
       "   'ULT_ATUALIZ_PZ',\n",
       "   'APOIO',\n",
       "   'D',\n",
       "   'DAT_ATLZ',\n",
       "   'DAT_PRZO',\n",
       "   'STR_MOTV_FALT'],\n",
       "  ['VARCHAR',\n",
       "   'VARCHAR',\n",
       "   'VARCHAR',\n",
       "   'VARCHAR',\n",
       "   'VARCHAR',\n",
       "   'VARCHAR',\n",
       "   'VARCHAR',\n",
       "   'VARCHAR',\n",
       "   'VARCHAR',\n",
       "   'VARCHAR',\n",
       "   'VARCHAR',\n",
       "   'VARCHAR',\n",
       "   'VARCHAR',\n",
       "   'VARCHAR',\n",
       "   'VARCHAR',\n",
       "   'VARCHAR',\n",
       "   'VARCHAR',\n",
       "   'VARCHAR',\n",
       "   'VARCHAR',\n",
       "   'VARCHAR',\n",
       "   'VARCHAR',\n",
       "   'VARCHAR'],\n",
       "  False),\n",
       " ('dev', 'main', 'my_first_dbt_model', ['id'], ['INTEGER'], False)]"
      ]
     },
     "execution_count": 5,
     "metadata": {},
     "output_type": "execute_result"
    }
   ],
   "source": [
    "tables = con.execute(\"SHOW ALL TABLES\").fetchall()\n",
    "tables"
   ]
  },
  {
   "cell_type": "code",
   "execution_count": 280,
   "id": "c23fc1ac-012d-4247-b184-cfec25568866",
   "metadata": {},
   "outputs": [
    {
     "data": {
      "text/plain": [
       "[('FTOP_MATERIAL', 'BIGINT', 'YES', None, None, None),\n",
       " ('FTOP_LOTE_SAP', 'VARCHAR', 'YES', None, None, None),\n",
       " ('FTOP_CENTRO_PRINCIPAL', 'VARCHAR', 'YES', None, None, None),\n",
       " ('FTOP_CODIGO_PLANEJADOR_MRP', 'VARCHAR', 'YES', None, None, None),\n",
       " ('FTOP_PART_NUMBER', 'VARCHAR', 'YES', None, None, None),\n",
       " ('FTOP_DESCRICAO_ECODE', 'VARCHAR', 'YES', None, None, None),\n",
       " ('FTOP_UNIDADE_MEDIDA_BASICA', 'VARCHAR', 'YES', None, None, None),\n",
       " ('FTOP_QTD_STK', 'DOUBLE', 'YES', None, None, None),\n",
       " ('FTOP_QTD_D_PASSADA', 'DOUBLE', 'YES', None, None, None),\n",
       " ('FTOP_QTD_D_MENSAL_AVG', 'DOUBLE', 'YES', None, None, None),\n",
       " ('FTOP_USD_PRECO_UNIT', 'DOUBLE', 'YES', None, None, None),\n",
       " ('FTOP_TARGET_MIN', 'DOUBLE', 'YES', None, None, None),\n",
       " ('FTOP_TARGET_MAX', 'DOUBLE', 'YES', None, None, None),\n",
       " ('FTOP_DATA1', 'VARCHAR', 'YES', None, None, None)]"
      ]
     },
     "execution_count": 280,
     "metadata": {},
     "output_type": "execute_result"
    }
   ],
   "source": [
    "con.execute(\"SHOW RAW.FACT_TOP_MATERIAL\").fetchall()"
   ]
  },
  {
   "cell_type": "code",
   "execution_count": 283,
   "id": "9aba7092-7737-4952-b422-fc4ea8887f97",
   "metadata": {},
   "outputs": [
    {
     "data": {
      "text/plain": [
       "[('PROJETO', 'VARCHAR', 'YES', None, None, None),\n",
       " ('NS', 'VARCHAR', 'YES', None, None, None),\n",
       " ('ORIG_NEC', 'VARCHAR', 'YES', None, None, None),\n",
       " ('CEMB_SOLIC', 'VARCHAR', 'YES', None, None, None),\n",
       " ('CEMB_MAT_FALT', 'VARCHAR', 'YES', None, None, None),\n",
       " ('PN_MAT_FALT', 'VARCHAR', 'YES', None, None, None),\n",
       " ('DESCR_MAT_FALT', 'VARCHAR', 'YES', None, None, None),\n",
       " ('TIPO_MAT_FALT', 'VARCHAR', 'YES', None, None, None),\n",
       " ('QTD_FALT', 'VARCHAR', 'YES', None, None, None),\n",
       " ('PPCP_FORN', 'VARCHAR', 'YES', None, None, None),\n",
       " ('PPCP_SOLIC', 'VARCHAR', 'YES', None, None, None),\n",
       " ('DAT_COBR', 'VARCHAR', 'YES', None, None, None),\n",
       " ('DAT_NEC', 'VARCHAR', 'YES', None, None, None),\n",
       " ('DAT_LIMITE', 'VARCHAR', 'YES', None, None, None),\n",
       " ('CENTRO_SOLIC', 'VARCHAR', 'YES', None, None, None),\n",
       " ('CENTRO_FORN', 'VARCHAR', 'YES', None, None, None),\n",
       " ('ULT_ATUALIZ_PZ', 'VARCHAR', 'YES', None, None, None),\n",
       " ('APOIO', 'VARCHAR', 'YES', None, None, None),\n",
       " ('D', 'VARCHAR', 'YES', None, None, None),\n",
       " ('DAT_ATLZ', 'VARCHAR', 'YES', None, None, None),\n",
       " ('DAT_PRZO', 'VARCHAR', 'YES', None, None, None),\n",
       " ('STR_MOTV_FALT', 'VARCHAR', 'YES', None, None, None)]"
      ]
     },
     "execution_count": 283,
     "metadata": {},
     "output_type": "execute_result"
    }
   ],
   "source": [
    "con.execute(\"SHOW RAW.GESTAO_FALTAS\").fetchall()"
   ]
  },
  {
   "cell_type": "code",
   "execution_count": 13,
   "id": "fb9509d6-e198-49a7-9bbd-a409a2c627c5",
   "metadata": {},
   "outputs": [],
   "source": [
    "con.close()"
   ]
  },
  {
   "cell_type": "markdown",
   "id": "0c6af480-089c-4b78-911a-d67451d7b630",
   "metadata": {},
   "source": [
    "### Bases separadas por meses"
   ]
  },
  {
   "cell_type": "code",
   "execution_count": null,
   "id": "95cc95a5-7114-477d-ac5d-966ea776d2f9",
   "metadata": {},
   "outputs": [],
   "source": [
    "(df_gestao_faltas\n",
    ".assign(ANO=lambda x:x['DAT_LIMITE'].str[:4])\n",
    ".assign(MES=lambda x:x['DAT_LIMITE'].str[5:7])\n",
    ".query('ANO==\"2022\"')\n",
    ")[['MES']].value_counts().sort_index()"
   ]
  }
 ],
 "metadata": {
  "kernelspec": {
   "display_name": "pnedados",
   "language": "python",
   "name": "pnedados"
  },
  "language_info": {
   "codemirror_mode": {
    "name": "ipython",
    "version": 3
   },
   "file_extension": ".py",
   "mimetype": "text/x-python",
   "name": "python",
   "nbconvert_exporter": "python",
   "pygments_lexer": "ipython3",
   "version": "3.11.4"
  }
 },
 "nbformat": 4,
 "nbformat_minor": 5
}
